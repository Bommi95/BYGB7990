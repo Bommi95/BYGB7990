{
 "cells": [
  {
   "cell_type": "code",
   "execution_count": 1,
   "metadata": {},
   "outputs": [],
   "source": [
    "#import the packages \n",
    "import boto3 \n",
    "import numpy as np\n",
    "import pandas as pd\n",
    "from io import StringIO, BytesIO"
   ]
  },
  {
   "cell_type": "code",
   "execution_count": 2,
   "metadata": {},
   "outputs": [],
   "source": [
    "#Build the connection to S3 server\n",
    "s3 = boto3.client(\"s3\")\n",
    "s3_resource = boto3.resource('s3')\n",
    "bucket_name = \"zyyaphet\""
   ]
  },
  {
   "cell_type": "code",
   "execution_count": 17,
   "metadata": {},
   "outputs": [],
   "source": [
    "#list all of the files in the bucket with keys\n",
    "response2 = s3.list_objects_v2(Bucket=bucket_name)\n",
    "response2['Contents']"
   ]
  },
  {
   "cell_type": "code",
   "execution_count": 7,
   "metadata": {},
   "outputs": [],
   "source": [
    "#To get the csv file from S3, we first specify the key and bucket name, and then\n",
    "#read through BytesIO since the file is byte-like in S3 object\n",
    "#We incoroporated the file to pandas dataframe to process\n",
    "\n",
    "obj = s3.get_object(Bucket=bucket_name, Key=\"Input/ratings_small.csv\")\n",
    "df = pd.read_csv(BytesIO(obj['Body'].read()))\n",
    "df.drop('timestamp', inplace=True, axis=1)"
   ]
  },
  {
   "cell_type": "code",
   "execution_count": 14,
   "metadata": {},
   "outputs": [
    {
     "data": {
      "text/plain": [
       "userId     100836\n",
       "movieId    100836\n",
       "rating     100836\n",
       "dtype: int64"
      ]
     },
     "execution_count": 14,
     "metadata": {},
     "output_type": "execute_result"
    }
   ],
   "source": [
    "df.count()"
   ]
  },
  {
   "cell_type": "markdown",
   "metadata": {},
   "source": [
    "# Modelling"
   ]
  },
  {
   "cell_type": "code",
   "execution_count": 8,
   "metadata": {},
   "outputs": [
    {
     "name": "stdout",
     "output_type": "stream",
     "text": [
      "+------+-------+------+\n",
      "|userId|movieId|rating|\n",
      "+------+-------+------+\n",
      "|     1|      1|   4.0|\n",
      "|     1|      3|   4.0|\n",
      "|     1|      6|   4.0|\n",
      "|     1|     47|   5.0|\n",
      "|     1|     50|   5.0|\n",
      "|     1|     70|   3.0|\n",
      "|     1|    101|   5.0|\n",
      "|     1|    110|   4.0|\n",
      "|     1|    151|   5.0|\n",
      "|     1|    157|   5.0|\n",
      "+------+-------+------+\n",
      "only showing top 10 rows\n",
      "\n"
     ]
    }
   ],
   "source": [
    "from pyspark.sql import SQLContext, SparkSession\n",
    "from pyspark.sql.types import *\n",
    "\n",
    "# Build SparkSession\n",
    "spark = SparkSession.builder.appName('ALS').getOrCreate()\n",
    "    \n",
    "# Convert Pandas Dataframe to Spark Dataframe with schema    \n",
    "schema = StructType([StructField(\"userId\", IntegerType(), True),StructField(\"movieId\", IntegerType(), True), StructField(\"rating\", DoubleType(), True)])\n",
    "ratings = spark.createDataFrame(df, schema=schema) \n",
    "ratings.show(10)"
   ]
  },
  {
   "cell_type": "code",
   "execution_count": 9,
   "metadata": {},
   "outputs": [
    {
     "name": "stdout",
     "output_type": "stream",
     "text": [
      "Root-mean-square error = 1.1892230827560908\n"
     ]
    }
   ],
   "source": [
    "# ALS Modelling\n",
    "\n",
    "from pyspark.ml.evaluation import RegressionEvaluator\n",
    "from pyspark.ml.recommendation import ALS\n",
    "from pyspark.sql import Row\n",
    "\n",
    "(training, test) = ratings.randomSplit([0.8, 0.2])\n",
    "#Here I used the default parameters, but you can iterate to tune the parameters yourself\n",
    "als = ALS(maxIter=5, regParam=0.01, rank=20, userCol=\"userId\", itemCol=\"movieId\", ratingCol=\"rating\",coldStartStrategy=\"drop\")\n",
    "model = als.fit(training)\n",
    "predictions = model.transform(test)\n",
    "evaluator = RegressionEvaluator(metricName=\"rmse\", labelCol=\"rating\",predictionCol=\"prediction\")\n",
    "rmse = evaluator.evaluate(predictions)\n",
    "print(\"Root-mean-square error = \" + str(rmse))\n"
   ]
  },
  {
   "cell_type": "markdown",
   "metadata": {},
   "source": [
    "# Recommendation"
   ]
  },
  {
   "cell_type": "code",
   "execution_count": 18,
   "metadata": {},
   "outputs": [],
   "source": [
    "# Generate recommendations\n",
    "\n",
    "userRecs = model.recommendForAllUsers(10)\n",
    "movieRecs = model.recommendForAllItems(10)\n",
    "users = ratings.select(als.getUserCol()).distinct().limit(3)\n",
    "userSubsetRecs = model.recommendForUserSubset(users, 10)\n",
    "movies = ratings.select(als.getItemCol()).distinct().limit(3)\n",
    "movieSubSetRecs = model.recommendForItemSubset(movies, 10)"
   ]
  },
  {
   "cell_type": "code",
   "execution_count": 19,
   "metadata": {},
   "outputs": [
    {
     "name": "stdout",
     "output_type": "stream",
     "text": [
      "+------+--------------------+\n",
      "|userId|     recommendations|\n",
      "+------+--------------------+\n",
      "|   471|[[2318, 8.494622]...|\n",
      "|   463|[[27611, 6.997333...|\n",
      "|   496|[[89904, 8.015404...|\n",
      "|   148|[[7169, 6.281178]...|\n",
      "|   540|[[2990, 7.455493]...|\n",
      "|   392|[[4144, 8.627564]...|\n",
      "|   243|[[4270, 8.880862]...|\n",
      "|    31|[[7099, 9.043392]...|\n",
      "|   516|[[3791, 7.0694942...|\n",
      "|   580|[[55247, 6.338495...|\n",
      "+------+--------------------+\n",
      "only showing top 10 rows\n",
      "\n"
     ]
    }
   ],
   "source": [
    "# Genearte top 10 movie recommendation for each user\n",
    "userRecs.show(10)"
   ]
  },
  {
   "cell_type": "code",
   "execution_count": 21,
   "metadata": {},
   "outputs": [
    {
     "name": "stdout",
     "output_type": "stream",
     "text": [
      "+-------+--------------------+\n",
      "|movieId|     recommendations|\n",
      "+-------+--------------------+\n",
      "|   1580|[[77, 7.0766826],...|\n",
      "|   4900|[[264, 6.061315],...|\n",
      "|   5300|[[164, 5.9314775]...|\n",
      "|   6620|[[158, 8.308047],...|\n",
      "|   7340|[[302, 5.0520425]...|\n",
      "|  32460|[[536, 8.207065],...|\n",
      "|  54190|[[35, 7.330521], ...|\n",
      "|    471|[[55, 8.853011], ...|\n",
      "|   1591|[[344, 7.281192],...|\n",
      "| 140541|[[270, 6.0058136]...|\n",
      "+-------+--------------------+\n",
      "only showing top 10 rows\n",
      "\n"
     ]
    }
   ],
   "source": [
    "# Generate top 10 user recomendation for each movie\n",
    "movieRecs.show(10)\n"
   ]
  },
  {
   "cell_type": "code",
   "execution_count": 20,
   "metadata": {},
   "outputs": [
    {
     "name": "stdout",
     "output_type": "stream",
     "text": [
      "+------+--------------------+\n",
      "|userId|     recommendations|\n",
      "+------+--------------------+\n",
      "|   471|[[2318, 8.494622]...|\n",
      "|   463|[[27611, 6.997333...|\n",
      "|   148|[[7169, 6.281178]...|\n",
      "+------+--------------------+\n",
      "\n"
     ]
    }
   ],
   "source": [
    "# A subset of user recommendation\n",
    "\n",
    "users = ratings.select(als.getUserCol()).distinct().limit(3)\n",
    "userSubsetRecs = model.recommendForUserSubset(users, 10)\n",
    "userSubsetRecs.show()"
   ]
  },
  {
   "cell_type": "code",
   "execution_count": 21,
   "metadata": {},
   "outputs": [
    {
     "name": "stdout",
     "output_type": "stream",
     "text": [
      "+-------+--------------------+\n",
      "|movieId|     recommendations|\n",
      "+-------+--------------------+\n",
      "|   1580|[[77, 6.5441346],...|\n",
      "|   3175|[[258, 7.625138],...|\n",
      "|   2366|[[5, 7.774533], [...|\n",
      "+-------+--------------------+\n",
      "\n"
     ]
    }
   ],
   "source": [
    "# A subset of movie recommendation\n",
    "\n",
    "movies = ratings.select(als.getItemCol()).distinct().limit(3)\n",
    "movieSubSetRecs = model.recommendForItemSubset(movies, 10)\n",
    "movieSubSetRecs.show()"
   ]
  },
  {
   "cell_type": "code",
   "execution_count": null,
   "metadata": {},
   "outputs": [],
   "source": []
  },
  {
   "cell_type": "code",
   "execution_count": null,
   "metadata": {},
   "outputs": [],
   "source": []
  },
  {
   "cell_type": "code",
   "execution_count": null,
   "metadata": {},
   "outputs": [],
   "source": []
  },
  {
   "cell_type": "code",
   "execution_count": null,
   "metadata": {},
   "outputs": [],
   "source": []
  }
 ],
 "metadata": {
  "kernelspec": {
   "display_name": "Python 3",
   "language": "python",
   "name": "python3"
  },
  "language_info": {
   "codemirror_mode": {
    "name": "ipython",
    "version": 3
   },
   "file_extension": ".py",
   "mimetype": "text/x-python",
   "name": "python",
   "nbconvert_exporter": "python",
   "pygments_lexer": "ipython3",
   "version": "3.7.0"
  }
 },
 "nbformat": 4,
 "nbformat_minor": 2
}
