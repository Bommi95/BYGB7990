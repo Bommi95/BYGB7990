{
 "cells": [
  {
   "cell_type": "code",
   "execution_count": 6,
   "metadata": {},
   "outputs": [],
   "source": [
    "import boto3 \n",
    "import numpy as np\n",
    "import pandas as pd\n",
    "from io import StringIO, BytesIO"
   ]
  },
  {
   "cell_type": "code",
   "execution_count": 7,
   "metadata": {},
   "outputs": [],
   "source": [
    "s3 = boto3.client(\"s3\")\n",
    "s3_resource = boto3.resource('s3')\n",
    "bucket_name = \"zyyaphet\""
   ]
  },
  {
   "cell_type": "code",
   "execution_count": 8,
   "metadata": {},
   "outputs": [],
   "source": [
    "obj = s3.get_object(Bucket=bucket_name, Key=\"Input/ratings_small.csv\")\n",
    "df = pd.read_csv(BytesIO(obj['Body'].read()))\n",
    "df.drop('timestamp', inplace=True, axis=1)"
   ]
  },
  {
   "cell_type": "code",
   "execution_count": 14,
   "metadata": {},
   "outputs": [
    {
     "data": {
      "text/plain": [
       "userId     100836\n",
       "movieId    100836\n",
       "rating     100836\n",
       "dtype: int64"
      ]
     },
     "execution_count": 14,
     "metadata": {},
     "output_type": "execute_result"
    }
   ],
   "source": [
    "df.count()"
   ]
  },
  {
   "cell_type": "code",
   "execution_count": 11,
   "metadata": {},
   "outputs": [
    {
     "name": "stdout",
     "output_type": "stream",
     "text": [
      "+------+-------+------+\n",
      "|userId|movieId|rating|\n",
      "+------+-------+------+\n",
      "|     1|      1|   4.0|\n",
      "|     1|      3|   4.0|\n",
      "|     1|      6|   4.0|\n",
      "|     1|     47|   5.0|\n",
      "|     1|     50|   5.0|\n",
      "|     1|     70|   3.0|\n",
      "|     1|    101|   5.0|\n",
      "|     1|    110|   4.0|\n",
      "|     1|    151|   5.0|\n",
      "|     1|    157|   5.0|\n",
      "+------+-------+------+\n",
      "only showing top 10 rows\n",
      "\n"
     ]
    }
   ],
   "source": [
    "from pyspark.sql import SQLContext, SparkSession\n",
    "from pyspark.sql.types import *\n",
    "\n",
    "# Build SparkSession\n",
    "spark = SparkSession.builder.appName('ALS').getOrCreate()\n",
    "    \n",
    "# Convert Pandas Dataframe to Spark Dataframe with schema    \n",
    "schema = StructType([StructField(\"userId\", IntegerType(), True),StructField(\"movieId\", IntegerType(), True), StructField(\"rating\", DoubleType(), True)])\n",
    "ratings = spark.createDataFrame(df, schema=schema) \n",
    "ratings.show(10)"
   ]
  },
  {
   "cell_type": "code",
   "execution_count": 16,
   "metadata": {},
   "outputs": [],
   "source": [
    "#ratings"
   ]
  },
  {
   "cell_type": "code",
   "execution_count": 13,
   "metadata": {},
   "outputs": [
    {
     "name": "stdout",
     "output_type": "stream",
     "text": [
      "Root-mean-square error = 1.2004018682708308\n"
     ]
    }
   ],
   "source": [
    "# ALS Modelling\n",
    "\n",
    "from pyspark.ml.evaluation import RegressionEvaluator\n",
    "from pyspark.ml.recommendation import ALS\n",
    "from pyspark.sql import Row\n",
    "\n",
    "(training, test) = ratings.randomSplit([0.8, 0.2])\n",
    "als = ALS(maxIter=5, regParam=0.01, rank=20, userCol=\"userId\", itemCol=\"movieId\", ratingCol=\"rating\",coldStartStrategy=\"drop\")\n",
    "model = als.fit(training)\n",
    "predictions = model.transform(test)\n",
    "evaluator = RegressionEvaluator(metricName=\"rmse\", labelCol=\"rating\",predictionCol=\"prediction\")\n",
    "rmse = evaluator.evaluate(predictions)\n",
    "print(\"Root-mean-square error = \" + str(rmse))\n"
   ]
  },
  {
   "cell_type": "code",
   "execution_count": 17,
   "metadata": {},
   "outputs": [],
   "source": [
    "# Generate recommendations\n",
    "\n",
    "userRecs = model.recommendForAllUsers(10)\n",
    "movieRecs = model.recommendForAllItems(10)\n",
    "#users = ratings.select(als.getUserCol()).distinct().limit(3)\n",
    "#userSubsetRecs = model.recommendForUserSubset(users, 10)\n",
    "#movies = ratings.select(als.getItemCol()).distinct().limit(3)\n",
    "#movieSubSetRecs = model.recommendForItemSubset(movies, 10)"
   ]
  },
  {
   "cell_type": "code",
   "execution_count": 20,
   "metadata": {},
   "outputs": [
    {
     "name": "stdout",
     "output_type": "stream",
     "text": [
      "+------+--------------------+\n",
      "|userId|     recommendations|\n",
      "+------+--------------------+\n",
      "|   471|[[1805, 8.739668]...|\n",
      "|   463|[[1464, 8.258455]...|\n",
      "|   496|[[8533, 7.6467705...|\n",
      "|   148|[[59369, 7.308037...|\n",
      "|   540|[[5903, 6.655172]...|\n",
      "|   392|[[417, 7.903699],...|\n",
      "|   243|[[44974, 9.210981...|\n",
      "|    31|[[1958, 8.117658]...|\n",
      "|   516|[[49932, 8.466272...|\n",
      "|   580|[[27611, 5.886969...|\n",
      "|   251|[[1147, 6.530244]...|\n",
      "|   451|[[1186, 8.037044]...|\n",
      "|    85|[[3040, 8.356973]...|\n",
      "|   137|[[905, 5.406294],...|\n",
      "|    65|[[7371, 5.844014]...|\n",
      "|   458|[[3477, 7.183012]...|\n",
      "|   481|[[5080, 7.522802]...|\n",
      "|    53|[[2843, 6.7843556...|\n",
      "|   255|[[122906, 8.93016...|\n",
      "|   588|[[8973, 7.2354574...|\n",
      "+------+--------------------+\n",
      "only showing top 20 rows\n",
      "\n"
     ]
    }
   ],
   "source": [
    "# Genearte top 10 movie recommendation for each user\n",
    "userRecs.show(10)"
   ]
  },
  {
   "cell_type": "code",
   "execution_count": 21,
   "metadata": {},
   "outputs": [
    {
     "name": "stdout",
     "output_type": "stream",
     "text": [
      "+-------+--------------------+\n",
      "|movieId|     recommendations|\n",
      "+-------+--------------------+\n",
      "|   1580|[[77, 7.0766826],...|\n",
      "|   4900|[[264, 6.061315],...|\n",
      "|   5300|[[164, 5.9314775]...|\n",
      "|   6620|[[158, 8.308047],...|\n",
      "|   7340|[[302, 5.0520425]...|\n",
      "|  32460|[[536, 8.207065],...|\n",
      "|  54190|[[35, 7.330521], ...|\n",
      "|    471|[[55, 8.853011], ...|\n",
      "|   1591|[[344, 7.281192],...|\n",
      "| 140541|[[270, 6.0058136]...|\n",
      "+-------+--------------------+\n",
      "only showing top 10 rows\n",
      "\n"
     ]
    }
   ],
   "source": [
    "# Generate top 10 user recomendation for each movie\n",
    "movieRecs.show(10)\n"
   ]
  },
  {
   "cell_type": "code",
   "execution_count": null,
   "metadata": {},
   "outputs": [],
   "source": []
  },
  {
   "cell_type": "code",
   "execution_count": null,
   "metadata": {},
   "outputs": [],
   "source": []
  },
  {
   "cell_type": "code",
   "execution_count": null,
   "metadata": {},
   "outputs": [],
   "source": []
  },
  {
   "cell_type": "code",
   "execution_count": null,
   "metadata": {},
   "outputs": [],
   "source": []
  },
  {
   "cell_type": "code",
   "execution_count": null,
   "metadata": {},
   "outputs": [],
   "source": []
  }
 ],
 "metadata": {
  "kernelspec": {
   "display_name": "Python 3",
   "language": "python",
   "name": "python3"
  },
  "language_info": {
   "codemirror_mode": {
    "name": "ipython",
    "version": 3
   },
   "file_extension": ".py",
   "mimetype": "text/x-python",
   "name": "python",
   "nbconvert_exporter": "python",
   "pygments_lexer": "ipython3",
   "version": "3.7.0"
  }
 },
 "nbformat": 4,
 "nbformat_minor": 2
}
